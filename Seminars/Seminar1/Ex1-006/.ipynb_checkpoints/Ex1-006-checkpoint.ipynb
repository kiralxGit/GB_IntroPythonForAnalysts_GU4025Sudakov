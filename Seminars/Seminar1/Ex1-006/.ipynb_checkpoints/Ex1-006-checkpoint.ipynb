{
 "cells": [
  {
   "cell_type": "markdown",
   "id": "8ef57aa3",
   "metadata": {},
   "source": [
    "## Ex1-006\n",
    "Напишите функцию, которая может принимать любое количество трат пользователя и считать сумму и среднее.\n",
    "- на вход поступают целочисленные значения в любом количестве;\n",
    "- на выходе словарь с ключами суммы трат и средней траты;"
   ]
  },
  {
   "cell_type": "code",
   "execution_count": 1,
   "id": "18e3f509",
   "metadata": {},
   "outputs": [],
   "source": [
    "def sum_and_average(*args) -> dict:\n",
    "    sum_args = sum(args)\n",
    "    average = sum_args / len(args)\n",
    "    return {\n",
    "            'sum': sum_args,\n",
    "            'average': average\n",
    "    }"
   ]
  },
  {
   "cell_type": "code",
   "execution_count": 2,
   "id": "bb65bee3",
   "metadata": {},
   "outputs": [
    {
     "data": {
      "text/plain": [
       "{'sum': 6176, 'average': 1235.2}"
      ]
     },
     "execution_count": 2,
     "metadata": {},
     "output_type": "execute_result"
    }
   ],
   "source": [
    "sum_and_average(45, 5888, 87, 100, 56)"
   ]
  }
 ],
 "metadata": {
  "kernelspec": {
   "display_name": "Python 3 (ipykernel)",
   "language": "python",
   "name": "python3"
  },
  "language_info": {
   "codemirror_mode": {
    "name": "ipython",
    "version": 3
   },
   "file_extension": ".py",
   "mimetype": "text/x-python",
   "name": "python",
   "nbconvert_exporter": "python",
   "pygments_lexer": "ipython3",
   "version": "3.11.0"
  }
 },
 "nbformat": 4,
 "nbformat_minor": 5
}
