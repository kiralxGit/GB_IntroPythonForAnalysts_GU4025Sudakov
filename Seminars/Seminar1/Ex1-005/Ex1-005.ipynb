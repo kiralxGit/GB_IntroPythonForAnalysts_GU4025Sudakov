{
 "cells": [
  {
   "cell_type": "markdown",
   "id": "975892a7",
   "metadata": {},
   "source": [
    "## Ex1-005"
   ]
  },
  {
   "cell_type": "markdown",
   "id": "cad3f2f3",
   "metadata": {},
   "source": [
    "### Ex1-005-1\n",
    "Найдите картинку в интернете и прикрепите её в ячейку с текстом."
   ]
  },
  {
   "cell_type": "markdown",
   "id": "60122086",
   "metadata": {},
   "source": [
    "<img src = \"https://i.pinimg.com/236x/c1/ae/6e/c1ae6e25d9be4c658f64be7e16c0d961.jpg\"\n",
    "width=100>"
   ]
  },
  {
   "cell_type": "markdown",
   "id": "bc0a4d05",
   "metadata": {},
   "source": [
    "### Ex1-005-2\n",
    "Создайте следующую таблицу в ячейке с текстом."
   ]
  },
  {
   "cell_type": "markdown",
   "id": "f44af376",
   "metadata": {},
   "source": [
    "<table>\n",
    "    <tr>\n",
    "        <td> </td>\n",
    "        <th>До события</th>\n",
    "        <th>Во время события</th>\n",
    "    </tr>\n",
    "    <tr>\n",
    "        <td>1 контрольная точка</td>\n",
    "        <td>250</td>\n",
    "        <td>500</td>\n",
    "    </tr>\n",
    "    <tr>\n",
    "        <td>2 контрольная точка</td>\n",
    "        <td>350</td>\n",
    "        <td>700</td>\n",
    "    </tr>\n",
    "    <tr>\n",
    "        <td>3 контрольная точка</td>\n",
    "        <td>400</td>\n",
    "        <td>800</td>\n",
    "    </tr>\n",
    "    <tr>\n",
    "        <td>Итого за победу</td>\n",
    "        <td>1000</td>\n",
    "        <td>2000</td>\n",
    "    </tr>\n",
    "</table>"
   ]
  }
 ],
 "metadata": {
  "kernelspec": {
   "display_name": "Python 3 (ipykernel)",
   "language": "python",
   "name": "python3"
  },
  "language_info": {
   "codemirror_mode": {
    "name": "ipython",
    "version": 3
   },
   "file_extension": ".py",
   "mimetype": "text/x-python",
   "name": "python",
   "nbconvert_exporter": "python",
   "pygments_lexer": "ipython3",
   "version": "3.11.0"
  }
 },
 "nbformat": 4,
 "nbformat_minor": 5
}
