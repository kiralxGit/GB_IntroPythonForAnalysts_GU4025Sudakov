{
 "cells": [
  {
   "cell_type": "markdown",
   "id": "9b62c392",
   "metadata": {},
   "source": [
    "## Ex1-004"
   ]
  },
  {
   "cell_type": "markdown",
   "id": "cbe986e5",
   "metadata": {},
   "source": [
    "### Ex1-004-1\n",
    "Сгенерируйте случайные целые числа от 0 до 100 в количестве 5 штук с помощью модуля random.\n",
    "- зафиксируйте псевдогенерацию, чтобы сгенерированные значения всегда были одинаковые;\n",
    "- используйте list comprehensions;"
   ]
  },
  {
   "cell_type": "code",
   "execution_count": 1,
   "id": "7d671f57",
   "metadata": {},
   "outputs": [],
   "source": [
    "import random"
   ]
  },
  {
   "cell_type": "code",
   "execution_count": 2,
   "id": "addc68ca",
   "metadata": {},
   "outputs": [
    {
     "data": {
      "text/plain": [
       "[73, 4, 54, 61, 73]"
      ]
     },
     "execution_count": 2,
     "metadata": {},
     "output_type": "execute_result"
    }
   ],
   "source": [
    "random.seed(10)\n",
    "new_list = [random.randint(0, 100) for _ in range(5)]\n",
    "new_list"
   ]
  },
  {
   "cell_type": "markdown",
   "id": "0ff7d7cd",
   "metadata": {},
   "source": [
    "### Ex1-004-2\n",
    "- генератор на вход принимает список с данными о клиенте (данные из пункта Ex1-004-1);\n",
    "- внутри генератора реализуйте обход по списку с данными;\n",
    "\n",
    "На каждой итерации генератор будет возвращать кортеж из двух элементов:\n",
    "1. Данные по клиенту (в зависимости от итерации, на 0 итерации вернется 0 элемент, на 1 итерации вернется 1 элемент и т.д.).\n",
    "2. Целочисленное значение, которое показывает, сколько секунд прошло с предыдущей итерации.\n",
    "\n",
    "Примечание: секунды, которые возвращаются должны показывать время не с начала запуска генератора, а именно то время, которое прошло с предыдущей итерации. А значит время на первой итерации должно равняться 0.\n",
    "\n",
    "- используйте функцию time из модуля time для подсчета времени;\n",
    "- чтобы проверить работу таймера, запустите проход по генератору в цикле с time.sleep(2);"
   ]
  },
  {
   "cell_type": "code",
   "execution_count": 4,
   "id": "e10f5c3e",
   "metadata": {},
   "outputs": [],
   "source": [
    "import time\n",
    "\n",
    "\n",
    "def generator_1(input_list: list) -> tuple:\n",
    "    prev_time = None\n",
    "    for item in input_list:\n",
    "        current_time = time.time()\n",
    "        if prev_time:\n",
    "            diff = current_time - prev_time\n",
    "        else:\n",
    "            diff = 0\n",
    "        prev_time = time.time()\n",
    "        yield (item, int(diff))"
   ]
  },
  {
   "cell_type": "code",
   "execution_count": 5,
   "id": "e8b45ec9",
   "metadata": {},
   "outputs": [
    {
     "name": "stdout",
     "output_type": "stream",
     "text": [
      "(73, 0)\n",
      "(4, 2)\n",
      "(54, 2)\n",
      "(61, 2)\n",
      "(73, 2)\n"
     ]
    }
   ],
   "source": [
    "for i in generator_1(new_list):\n",
    "    print(i)\n",
    "    time.sleep(2)"
   ]
  }
 ],
 "metadata": {
  "kernelspec": {
   "display_name": "Python 3 (ipykernel)",
   "language": "python",
   "name": "python3"
  },
  "language_info": {
   "codemirror_mode": {
    "name": "ipython",
    "version": 3
   },
   "file_extension": ".py",
   "mimetype": "text/x-python",
   "name": "python",
   "nbconvert_exporter": "python",
   "pygments_lexer": "ipython3",
   "version": "3.11.0"
  }
 },
 "nbformat": 4,
 "nbformat_minor": 5
}
