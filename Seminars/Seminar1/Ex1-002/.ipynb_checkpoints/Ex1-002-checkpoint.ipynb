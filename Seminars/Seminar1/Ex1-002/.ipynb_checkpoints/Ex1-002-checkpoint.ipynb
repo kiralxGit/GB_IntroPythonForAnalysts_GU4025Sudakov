{
 "cells": [
  {
   "cell_type": "markdown",
   "id": "1e2d1b5e",
   "metadata": {},
   "source": [
    "## Ex1-002\n",
    "Напишите функцию, которая из двух списков, делает один словарь, где элементы из первого списка - ключи, а элементы из второго списка - значения.\n",
    "\n",
    "keys = ['One', 'Two', 'Three']\n",
    "values = [1, 2, 3]\n",
    "\n",
    "Используйте аннотирование типов."
   ]
  },
  {
   "cell_type": "markdown",
   "id": "a9b99937",
   "metadata": {},
   "source": [
    "###  Ex1-002-1\n",
    "Используя цикл for."
   ]
  },
  {
   "cell_type": "code",
   "execution_count": 2,
   "id": "cea455d5",
   "metadata": {},
   "outputs": [],
   "source": [
    "keys = ['One', 'Two', 'Three']\n",
    "values = [1, 2, 3]\n",
    "\n",
    "def dict_from_lists_1(keys: list, values: list) -> dict:\n",
    "    dict_new = {}\n",
    "    for i in range(len(keys)):\n",
    "        dict_new.update({keys[i]: values[i]})\n",
    "    return dict_new"
   ]
  },
  {
   "cell_type": "code",
   "execution_count": 3,
   "id": "729163f4",
   "metadata": {},
   "outputs": [
    {
     "data": {
      "text/plain": [
       "{'One': 1, 'Two': 2, 'Three': 3}"
      ]
     },
     "execution_count": 3,
     "metadata": {},
     "output_type": "execute_result"
    }
   ],
   "source": [
    "dict_from_lists_1(keys, values)"
   ]
  },
  {
   "cell_type": "markdown",
   "id": "8ec6443b",
   "metadata": {},
   "source": [
    "###   Ex1-002-2\n",
    "Используя dict comprehensions."
   ]
  },
  {
   "cell_type": "code",
   "execution_count": 6,
   "id": "bf4c8079",
   "metadata": {},
   "outputs": [],
   "source": [
    "def dict_from_lists_2(keys: list, values: list) -> dict:\n",
    "    dict_new = {keys[i]: values[i] for i in range(len(keys))}\n",
    "    return dict_new"
   ]
  },
  {
   "cell_type": "code",
   "execution_count": 7,
   "id": "32d05d48",
   "metadata": {},
   "outputs": [
    {
     "data": {
      "text/plain": [
       "{'One': 1, 'Two': 2, 'Three': 3}"
      ]
     },
     "execution_count": 7,
     "metadata": {},
     "output_type": "execute_result"
    }
   ],
   "source": [
    "dict_from_lists_2(keys, values)"
   ]
  }
 ],
 "metadata": {
  "kernelspec": {
   "display_name": "Python 3 (ipykernel)",
   "language": "python",
   "name": "python3"
  },
  "language_info": {
   "codemirror_mode": {
    "name": "ipython",
    "version": 3
   },
   "file_extension": ".py",
   "mimetype": "text/x-python",
   "name": "python",
   "nbconvert_exporter": "python",
   "pygments_lexer": "ipython3",
   "version": "3.11.0"
  }
 },
 "nbformat": 4,
 "nbformat_minor": 5
}
