{
 "cells": [
  {
   "cell_type": "markdown",
   "id": "a461820b",
   "metadata": {},
   "source": [
    "## Ex1-003\n",
    "Извлеките только два ключа name и age из представленного словаря.\n",
    "\n",
    "client_dict = {\n",
    "    \"name\":\"John\",\n",
    "    \"age\":\"25\",\n",
    "    \"salary\":5000,\n",
    "    \"city\":\"Moscow\"\n",
    "}"
   ]
  },
  {
   "cell_type": "markdown",
   "id": "c9a0dc53",
   "metadata": {},
   "source": [
    "### Ex1-003-1\n",
    "Напишите функцию с циклом for.\n",
    "Функция на вход принимает:\n",
    "- исходный словарь;\n",
    "- ключи, которые нужно извлечь (аргумент по умолчанию);\n",
    "На выходе словарь с нужными ключами. \n",
    "Используйте аннотирование типов."
   ]
  },
  {
   "cell_type": "code",
   "execution_count": 2,
   "id": "fe1b0c21",
   "metadata": {},
   "outputs": [],
   "source": [
    "client_dict = {\n",
    "    \"name\":\"John\",\n",
    "    \"age\":\"25\",\n",
    "    \"salary\":5000,\n",
    "    \"city\":\"Moscow\"\n",
    "}\n",
    "\n",
    "def select_keys(dict1: dict, keys_list: list = ['name', 'age']) -> dict:\n",
    "    dict_new = {}\n",
    "    for i in range(len(keys_list)):\n",
    "        dict_new.update({keys_list[i]: dict1[keys_list[i]]})\n",
    "    return dict_new"
   ]
  },
  {
   "cell_type": "code",
   "execution_count": 3,
   "id": "4bd48a38",
   "metadata": {},
   "outputs": [
    {
     "data": {
      "text/plain": [
       "{'name': 'John', 'age': '25'}"
      ]
     },
     "execution_count": 3,
     "metadata": {},
     "output_type": "execute_result"
    }
   ],
   "source": [
    "select_keys(client_dict)"
   ]
  },
  {
   "cell_type": "markdown",
   "id": "b0ff5706",
   "metadata": {},
   "source": [
    "### Ex1-003-2\n",
    "Используя dict comprehensions."
   ]
  },
  {
   "cell_type": "code",
   "execution_count": 5,
   "id": "d9e0ef1b",
   "metadata": {},
   "outputs": [],
   "source": [
    "def select_keys_comp(dict1: dict, keys_list: list = ['name', 'age']) -> dict:\n",
    "    dict_new = {key:dict1[key] for key in keys_list}\n",
    "    return dict_new"
   ]
  },
  {
   "cell_type": "code",
   "execution_count": 6,
   "id": "9cb16cd0",
   "metadata": {},
   "outputs": [
    {
     "data": {
      "text/plain": [
       "{'name': 'John', 'age': '25'}"
      ]
     },
     "execution_count": 6,
     "metadata": {},
     "output_type": "execute_result"
    }
   ],
   "source": [
    "select_keys_comp(client_dict)"
   ]
  }
 ],
 "metadata": {
  "kernelspec": {
   "display_name": "Python 3 (ipykernel)",
   "language": "python",
   "name": "python3"
  },
  "language_info": {
   "codemirror_mode": {
    "name": "ipython",
    "version": 3
   },
   "file_extension": ".py",
   "mimetype": "text/x-python",
   "name": "python",
   "nbconvert_exporter": "python",
   "pygments_lexer": "ipython3",
   "version": "3.11.0"
  }
 },
 "nbformat": 4,
 "nbformat_minor": 5
}
