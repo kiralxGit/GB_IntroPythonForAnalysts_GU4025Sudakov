{
 "cells": [
  {
   "cell_type": "markdown",
   "id": "b4f92a8e",
   "metadata": {},
   "source": [
    "## Task1\n",
    "На складе лежат разные фрукты в разном количестве.\n",
    "Нужно написать функцию, которая на вход принимает любое количество названий фруктов и их количество, а возвращает общее количество фруктов на складе.\n",
    "\n",
    "Пример работы функции:  \n",
    "`total_fruits(banana=5, mango=7, apple=8)`  \n",
    "`20`"
   ]
  },
  {
   "cell_type": "code",
   "execution_count": 21,
   "id": "fd82e6bd",
   "metadata": {},
   "outputs": [],
   "source": [
    "def stock(kwargs) -> int:\n",
    "    result = int()\n",
    "    for key, value in kwargs.items():\n",
    "        result += value\n",
    "    print(result)"
   ]
  },
  {
   "cell_type": "code",
   "execution_count": 23,
   "id": "71855dcc",
   "metadata": {},
   "outputs": [
    {
     "name": "stdout",
     "output_type": "stream",
     "text": [
      "36\n"
     ]
    }
   ],
   "source": [
    "stock_dict = {\n",
    "    'muz': 5,\n",
    "    'portakal': 7,\n",
    "    'elma': 8,\n",
    "    'armul': 2,\n",
    "    'şeftali': 5,\n",
    "    'erik': 9\n",
    "}\n",
    "stock(stock_dict)"
   ]
  }
 ],
 "metadata": {
  "kernelspec": {
   "display_name": "Python 3 (ipykernel)",
   "language": "python",
   "name": "python3"
  },
  "language_info": {
   "codemirror_mode": {
    "name": "ipython",
    "version": 3
   },
   "file_extension": ".py",
   "mimetype": "text/x-python",
   "name": "python",
   "nbconvert_exporter": "python",
   "pygments_lexer": "ipython3",
   "version": "3.11.0"
  }
 },
 "nbformat": 4,
 "nbformat_minor": 5
}
